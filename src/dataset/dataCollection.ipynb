{
  "nbformat": 4,
  "nbformat_minor": 0,
  "metadata": {
    "colab": {
      "provenance": [],
      "mount_file_id": "1UO0qTw6JJw6MnVxClQKqG_CXqrdrPEDE",
      "authorship_tag": "ABX9TyNvtPIeky6EA38lSYCTb1OV",
      "include_colab_link": true
    },
    "kernelspec": {
      "name": "python3",
      "display_name": "Python 3"
    },
    "language_info": {
      "name": "python"
    }
  },
  "cells": [
    {
      "cell_type": "markdown",
      "metadata": {
        "id": "view-in-github",
        "colab_type": "text"
      },
      "source": [
        "<a href=\"https://colab.research.google.com/github/zainab-hl/report_generator/blob/main/src/dataset/dataCollection.ipynb\" target=\"_parent\"><img src=\"https://colab.research.google.com/assets/colab-badge.svg\" alt=\"Open In Colab\"/></a>"
      ]
    },
    {
      "cell_type": "code",
      "execution_count": null,
      "metadata": {
        "id": "wLsPD7-Lpq2X",
        "collapsed": true
      },
      "outputs": [],
      "source": [
        "from google.colab import drive\n",
        "import os\n",
        "import shutil\n",
        "import kagglehub\n",
        "import pandas as pd\n",
        "import matplotlib.pyplot as plt\n",
        "from PIL import Image\n",
        "\n",
        "#This project uses the [ROCO dataset](https://www.kaggle.com/datasets/virajbagal/roco-dataset),\n",
        "#which must be downloaded using your Kaggle credentials via the `kagglehub` library\n",
        "#in the following lignes we ll download only the radiogarphy part of the roco dataset\n",
        "\n",
        "\n",
        "class ROCODataHandler:\n",
        "    def __init__(self, dataset_id=\"virajbagal/roco-dataset\", drive_path=\"/content/drive/MyDrive/roco_radiology_train\"):\n",
        "        self.dataset_id = dataset_id\n",
        "        self.drive_path = drive_path\n",
        "        self.mounted_drive = False\n",
        "        self.dataset_path = \"\"\n",
        "        self.src_radiology_path = \"\"\n",
        "        self.images_path = \"\"\n",
        "        self.csv_path = \"\"\n",
        "        self.pairs = []\n",
        "\n",
        "#drive should be mounted\n",
        "\n",
        "    def download_dataset(self):\n",
        "        self.dataset_path = kagglehub.dataset_download(self.dataset_id)\n",
        "        print(\" Dataset downloaded to:\", self.dataset_path)\n",
        "\n",
        "    def prepare_paths(self):\n",
        "        self.src_radiology_path = os.path.join(self.dataset_path, \"all_data\", \"train\", \"radiology\")\n",
        "        self.csv_path = os.path.join(self.src_radiology_path, \"traindata.csv\")\n",
        "        self.images_path = os.path.join(self.src_radiology_path, \"images\")\n",
        "\n",
        "    def copy_to_drive(self):\n",
        "        os.makedirs(self.drive_path, exist_ok=True)\n",
        "        shutil.copytree(self.src_radiology_path, self.drive_path, dirs_exist_ok=True)\n",
        "        print(\" data copied to Drive:\", self.drive_path)\n",
        "\n",
        "    def load_metadata(self):\n",
        "        df = pd.read_csv(self.csv_path)\n",
        "        self.pairs = list(zip(df[\"name\"], df[\"caption\"]))\n",
        "        print(f\" there's {len(self.pairs)} image-caption pairs.\")\n",
        "\n",
        "    def preview_samples(self, count=5):\n",
        "        for i in range(min(count, len(self.pairs))):\n",
        "            image_id, caption = self.pairs[i]\n",
        "            image_path = os.path.join(self.images_path, image_id)\n",
        "\n",
        "            if os.path.exists(image_path):\n",
        "                img = Image.open(image_path)\n",
        "                plt.imshow(img)\n",
        "                plt.title(caption)\n",
        "                plt.axis('off')\n",
        "                plt.show()\n",
        "            else:\n",
        "                print(f\" not found : {image_path}\")\n",
        "\n",
        "\n",
        "handler = ROCODataHandler()\n",
        "handler.download_dataset()\n",
        "handler.prepare_paths()\n",
        "handler.copy_to_drive()\n",
        "handler.load_metadata()\n",
        "handler.preview_samples(5)\n"
      ]
    }
  ]
}